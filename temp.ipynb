{
  "nbformat": 4,
  "nbformat_minor": 0,
  "metadata": {
    "colab": {
      "provenance": []
    },
    "kernelspec": {
      "name": "python3",
      "display_name": "Python 3"
    },
    "language_info": {
      "name": "python"
    }
  },
  "cells": [
    {
      "cell_type": "code",
      "execution_count": 44,
      "metadata": {
        "id": "rbQPmxtFpXb3"
      },
      "outputs": [],
      "source": [
        "from sklearn.model_selection import KFold\n",
        "from sklearn.metrics import confusion_matrix, accuracy_score, recall_score, fbeta_score, classification_report, precision_score, precision_recall_fscore_support\n",
        "import numpy as np\n",
        "import math\n",
        "np.random.seed(42)"
      ]
    },
    {
      "cell_type": "code",
      "source": [
        "import nltk\n",
        "import numpy as np\n",
        "\n",
        "nltk.download('brown')\n",
        "nltk.download('universal_tagset')\n",
        "\n",
        "from nltk.corpus import brown\n",
        "\n",
        "# Access the Brown Corpus with the Universal POS tagset\n",
        "brown_corpus = brown.tagged_sents(tagset='universal')\n",
        "brown_corpus = np.array(brown_corpus, dtype = object)"
      ],
      "metadata": {
        "colab": {
          "base_uri": "https://localhost:8080/"
        },
        "id": "F1Mu7KgzqagD",
        "outputId": "1556fdd0-0263-435c-8fdb-5ea54c0f75fc"
      },
      "execution_count": 24,
      "outputs": [
        {
          "output_type": "stream",
          "name": "stderr",
          "text": [
            "[nltk_data] Downloading package brown to /root/nltk_data...\n",
            "[nltk_data]   Package brown is already up-to-date!\n",
            "[nltk_data] Downloading package universal_tagset to /root/nltk_data...\n",
            "[nltk_data]   Package universal_tagset is already up-to-date!\n"
          ]
        }
      ]
    },
    {
      "cell_type": "code",
      "source": [
        "def training(train):\n",
        "    # word_tag corresponds to tag - word prob\n",
        "    word_tag = {}\n",
        "    for i in train:\n",
        "        for j in i:\n",
        "            if j[1] not in word_tag:\n",
        "                word_tag[j[1]] = {}\n",
        "            if j[0].lower() not in word_tag[j[1]]:\n",
        "                word_tag[j[1]][j[0].lower()] = 0\n",
        "            word_tag[j[1]][j[0].lower()]+=1\n",
        "    for x in word_tag:\n",
        "        tot = 0\n",
        "        for j in word_tag[x]:\n",
        "            tot += word_tag[x][j]\n",
        "        word_tag[x]['Total'] = tot\n",
        "\n",
        "\n",
        "    trans = {}\n",
        "    trans['^'] = {}\n",
        "    word_tag['^'] = {}\n",
        "    word_tag['^']['Total'] = len(train)\n",
        "\n",
        "    for i in train:\n",
        "        if i[0][1] not in trans['^']:\n",
        "            trans['^'][i[0][1]] = 0\n",
        "        trans['^'][i[0][1]]+=1\n",
        "        if len(i) <= 1:\n",
        "            continue\n",
        "        for x in range(len(i)-1):\n",
        "            if i[x][1] not in trans:\n",
        "                trans[i[x][1]] = {}\n",
        "            if i[x+1][1] not in trans[i[x][1]]:\n",
        "                trans[i[x][1]][i[x+1][1]] = 0\n",
        "            trans[i[x][1]][i[x+1][1]]+=1\n",
        "    return word_tag, trans"
      ],
      "metadata": {
        "id": "Nj6E6cUVqcWk"
      },
      "execution_count": 25,
      "outputs": []
    },
    {
      "cell_type": "code",
      "source": [
        "def lex_prob(word, tag, word_tag):\n",
        "    if word in word_tag[tag]:\n",
        "        return word_tag[tag][word]/word_tag[tag]['Total']\n",
        "    else:\n",
        "        return 1e-9"
      ],
      "metadata": {
        "id": "-I5978dgqfjg"
      },
      "execution_count": 26,
      "outputs": []
    },
    {
      "cell_type": "code",
      "source": [
        "def trans_prob(curr_tag, prev_tag, trans, total):\n",
        "    if curr_tag not in trans[prev_tag]:\n",
        "        return 1e-9\n",
        "    else:\n",
        "        return trans[prev_tag][curr_tag] / total"
      ],
      "metadata": {
        "id": "l83I-vjTqhJk"
      },
      "execution_count": 27,
      "outputs": []
    },
    {
      "cell_type": "code",
      "source": [
        "def Viterbi_predict(word_tag, trans, sentence):\n",
        "    s = \"\"\n",
        "    n = 0\n",
        "    for i in sentence:\n",
        "        s += i[0].lower()\n",
        "        n += 1\n",
        "\n",
        "    curr_tag = [['^', 0]]\n",
        "    new_tag = []\n",
        "    #curr_max = -1e10000\n",
        "    max_entries = 3\n",
        "    curr_entries = 1\n",
        "\n",
        "    possible_tags = ['NOUN', 'VERB','ADV', 'ADJ', 'PRT', 'DET', 'CONJ', '.', 'ADP', 'PRON', 'X', 'NUM']\n",
        "    ans_tag = []\n",
        "\n",
        "    for i in range(n):\n",
        "        word = sentence[i][0].lower()\n",
        "        for poss in curr_tag:\n",
        "            for j in possible_tags:\n",
        "                prob = poss[-1]\n",
        "                prev_tag = poss[-2]\n",
        "                copy_poss = poss.copy()\n",
        "\n",
        "                prob += math.log(lex_prob(word, j, word_tag)) + math.log(trans_prob(j, prev_tag, trans, word_tag[j]['Total']))\n",
        "                copy_poss[-1] = j\n",
        "                copy_poss.append(prob)\n",
        "                new_tag.append(copy_poss)\n",
        "        curr_tag = sorted(new_tag, key = lambda r:r[-1], reverse = True)[:max_entries]\n",
        "        #print(word, '->', curr_tag)\n",
        "        new_tag = []\n",
        "    final_tag = curr_tag[0][:-1]\n",
        "    final_tag = final_tag[1:]\n",
        "    #print(len(final_tag))\n",
        "    return final_tag\n",
        ""
      ],
      "metadata": {
        "id": "k8kzZoshqiSv"
      },
      "execution_count": 28,
      "outputs": []
    },
    {
      "cell_type": "code",
      "source": [
        "def get_confusion_matrix(all_preds, all_vals):\n",
        "    possible_tags = ['NOUN', 'VERB','ADV', 'ADJ', 'PRT', 'DET', 'CONJ', '.', 'ADP', 'PRON', 'X', 'NUM']\n",
        "    cm = confusion_matrix(all_vals, all_preds, labels = possible_tags)\n",
        "    print(cm)"
      ],
      "metadata": {
        "id": "hn-1jvmEqj8J"
      },
      "execution_count": 29,
      "outputs": []
    },
    {
      "cell_type": "code",
      "source": [
        "kf = KFold(n_splits=5, shuffle = True)\n",
        "split = kf.split(brown_corpus)"
      ],
      "metadata": {
        "id": "Hbm1wQwpqmo7"
      },
      "execution_count": 30,
      "outputs": []
    },
    {
      "cell_type": "code",
      "source": [
        "def know_vals(d):\n",
        "    l = []\n",
        "    for i in d:\n",
        "        l.append(i[1])\n",
        "    return l"
      ],
      "metadata": {
        "id": "QWBp-VtHqoLJ"
      },
      "execution_count": 31,
      "outputs": []
    },
    {
      "cell_type": "code",
      "source": [
        "for train, test in split:\n",
        "    #train_data, test_data = brown_corpus[train], brown_corpus[test]\n",
        "    train_data, test_data = brown_corpus[train], brown_corpus[test]\n",
        "    word_tag, trans = training(train_data)\n",
        "    all_vals_split = []\n",
        "    all_preds_split = []\n",
        "    suc = 0\n",
        "    tot = 0\n",
        "    for d in test_data:\n",
        "        vals = know_vals(d)\n",
        "        pred = Viterbi_predict(word_tag, trans, d)\n",
        "        if(vals == pred):\n",
        "            suc += 1\n",
        "        tot += 1\n",
        "        #print(len(vals), len(pred))\n",
        "        all_vals_split.extend(vals)\n",
        "        all_preds_split.extend(pred)\n",
        "    #all_preds.append(all_preds_split)\n",
        "    #all_vals.append(all_vals_split)\n",
        "    print(suc/tot)\n",
        "    get_confusion_matrix(all_preds_split, all_vals_split)\n",
        ""
      ],
      "metadata": {
        "colab": {
          "base_uri": "https://localhost:8080/"
        },
        "id": "MNV-ftg2qqnu",
        "outputId": "8aec5bf1-ac85-4c76-e861-8552ab7ccb82"
      },
      "execution_count": 32,
      "outputs": [
        {
          "output_type": "stream",
          "name": "stdout",
          "text": [
            "0.48979769794209976\n",
            "[[51391   698   295   844    29   318    71   372   141   283    96   284]\n",
            " [  991 35021   217   170     7    71    60    82    85    29     3     8]\n",
            " [   17    30 10185   433   162    42    19    21   341    21     0     0]\n",
            " [  358   116   583 15373    53   118    66    22    34    36     4     9]\n",
            " [   30     7    43     1  5392     2     2     2   355    18     1     0]\n",
            " [    0     0    26     0     0 27101     7     0   129   208     3     0]\n",
            " [    0     0    35     0     0    15  7476     0     3     0     0     0]\n",
            " [    0     0     0     0     0     0     0 29491     0     0    29     0]\n",
            " [    7    21   440    17   887    50    22     3 27246    62    13     0]\n",
            " [    4     2     1     1     0    56     0     1   116  9752     0     1]\n",
            " [   60    26     5    12     5    11     5    12    12    24   152     5]\n",
            " [   37    13    18    16     0    55    10    24     5    29     4  2700]]\n",
            "0.4939832577607255\n",
            "[[51656   734   309   834    28   355   114   430   159   226   100   319]\n",
            " [ 1064 34625   186   152     7    72    50    74    76    17    11     7]\n",
            " [   27    31 10134   463   139    47    19    19   330    23     0     2]\n",
            " [  364   120   580 15272    41   103    58    16    37    38     2    15]\n",
            " [   32     7    47     8  5393     3     9     0   368    18     1     0]\n",
            " [    1     0    20     0     0 26989     7     0   122   217     5     1]\n",
            " [    1     0    30     0     0    14  7699     0     3     0     2     0]\n",
            " [    0     0     0     0     0     0     0 29303     0     0    45     0]\n",
            " [    9    12   389    15   812    45    30     5 27653    82    10     1]\n",
            " [    3     0     0     0     6    58     0     0   120  9701     1     1]\n",
            " [   47     6     4     8     2    11     3    17     5    11   197     4]\n",
            " [   32     4    19    18     2    70    18    22     4    16     4  2794]]\n",
            "0.4911056853854203\n",
            "[[51543   686   278   776    20   361    67   425   161   249    85   315]\n",
            " [ 1053 34429   197   147     3    72    61    75    88    20     9     7]\n",
            " [   40    24  9997   432   169    40    12    15   337    20     0     1]\n",
            " [  396   119   573 15261    43   138    60    20    34    53     5    11]\n",
            " [   34     5    56     8  5334     2     2     2   397    16     2     1]\n",
            " [    0     0    13     0     0 26699     5     0   138   237     3     1]\n",
            " [    0     0    27     0     0    19  7532     0     3     0     3     0]\n",
            " [    0     0     0     0     0     0     0 29320     0     0    20     0]\n",
            " [   16    19   392     6   745    56    40     6 27336    60     6     0]\n",
            " [    3     0     1     0     0    61     0     0   107  9496     0     0]\n",
            " [   39    17     3     2     1    10     4    11     7    21   120     2]\n",
            " [   43     7    20    16     0    53    12    18     4    24     1  2825]]\n",
            "0.4964248343215905\n",
            "[[50846   772   264   824    27   359    95   402   180   271   102   343]\n",
            " [ 1064 34292   238   150    11    71    69    76    76    35     7     8]\n",
            " [   37    26 10024   428   154    54    36    16   360    28     2     3]\n",
            " [  376   110   570 15156    51   116    55    18    28    42     7     9]\n",
            " [   23     9    69    13  5491     1     5     1   392    14     2     1]\n",
            " [    0     1    27     0     1 26712     7     0   122   187     9     0]\n",
            " [    1     0    12     0     0    13  7499     0     1     0     1     0]\n",
            " [    0     0     0     0     0     0     0 29344     0     0    24     0]\n",
            " [    7    18   395    11   789    35    32     5 27152    68    14     0]\n",
            " [    1     0     2     0     0    47     0     0   114  9506     0     1]\n",
            " [   42     9     5     3     1    12     2    12     5    14   144     5]\n",
            " [   47     3    17    13     1    61    15    19     3    19     5  2709]]\n",
            "0.48177537495640044\n",
            "[[52444   703   262   869    28   366    80   436   150   260    92   331]\n",
            " [ 1118 35578   214   175     7    76    52    66    81    22     7    11]\n",
            " [   26    33 10364   445   150    35    21    20   365    19     0     1]\n",
            " [  375   112   620 15601    40   150    59    14    22    39     2    18]\n",
            " [   27    11    49     7  5643     2     8     2   441    18     1     1]\n",
            " [    0     0    32     0     0 27630     5     0   138   211     5     0]\n",
            " [    0     0    20     0     0    11  7729     0     0     0     2     0]\n",
            " [    0     0     0     0     0     0     0 29979     0     0    10     0]\n",
            " [   14    18   426     9   853    47    32     3 28251    67     7     0]\n",
            " [    3     0     1     0     0    73     0     0   124  9967     3     0]\n",
            " [   40     3     2     5     0    11     3    12     6    10   157     2]\n",
            " [   45     7    19    17     0    53     6    24     2    23     1  2828]]\n"
          ]
        }
      ]
    },
    {
      "cell_type": "code",
      "source": [
        "#Precision, Recall, F_Score\n",
        "f0_5_score, f1_score, f2_score, recall, precision = 0, 0, 0, 0, 0\n",
        "for i in range(5):\n",
        "    f0_5_score+=fbeta_score(all_vals[i],all_preds[i],beta=0.5,average='weighted',zero_division=0)\n",
        "    f1_score+=fbeta_score(all_vals[i],all_preds[i],beta=1,average='weighted',zero_division=0)\n",
        "    f2_score+=fbeta_score(all_vals[i],all_preds[i],beta=2,average='weighted',zero_division=0)\n",
        "    precision+=precision_score(all_vals[i],all_preds[i],average='weighted',zero_division=0)\n",
        "    recall+=recall_score(all_vals[i],all_preds[i],average='weighted',zero_division=0)\n",
        "\n",
        "f0_5_score, f1_score, f2_score, recall, precision = f0_5_score/5.0, f1_score/5.0, f2_score/5.0, recall/5.0, precision/5.0\n",
        "print(f'Precision : {precision}')\n",
        "print(f'Recall : {recall}')\n",
        "print(f'F0.5 Score : {f0_5_score}')\n",
        "print(f'F1 Score : {f1_score}')\n",
        "print(f'F2 Score : {f2_score}')"
      ],
      "metadata": {
        "colab": {
          "base_uri": "https://localhost:8080/"
        },
        "id": "YW0W8NmhqsQA",
        "outputId": "ae55574d-4d28-4965-ad83-ac71f2c6cf8b"
      },
      "execution_count": 35,
      "outputs": [
        {
          "output_type": "stream",
          "name": "stdout",
          "text": [
            "Precision : 0.9546080893951563\n",
            "Recall : 0.9538759845493135\n",
            "F0.5 Score : 0.9543224882476086\n",
            "F1 Score : 0.9540233328995054\n",
            "F2 Score : 0.9538815616660485\n"
          ]
        }
      ]
    },
    {
      "cell_type": "code",
      "source": [
        "def get_classification_report(all_preds, all_vals):\n",
        "  possible_tags = ['NOUN', 'VERB','ADV', 'ADJ', 'PRT', 'DET', 'CONJ', '.', 'ADP', 'PRON', 'X', 'NUM']\n",
        "  cr = precision_recall_fscore_support(all_vals, all_preds, average=None,\n",
        "                                labels= possible_tags)\n",
        "  print(cr)"
      ],
      "metadata": {
        "id": "vSDZtFCErmSa"
      },
      "execution_count": 42,
      "outputs": []
    },
    {
      "cell_type": "code",
      "source": [
        "all_vals_1, all_preds_1 = [],[]\n",
        "for i in range(5):\n",
        "  all_vals_1.extend(all_vals[i])\n",
        "  all_preds_1.extend(all_preds[i])"
      ],
      "metadata": {
        "id": "nUwbGsMuCrYt"
      },
      "execution_count": 49,
      "outputs": []
    },
    {
      "cell_type": "code",
      "source": [
        "precision_recall_fscore_support(all_preds_1, all_vals_1)"
      ],
      "metadata": {
        "colab": {
          "base_uri": "https://localhost:8080/"
        },
        "id": "N4gBEgCcFuOV",
        "outputId": "8bf9805d-0142-447f-f7f8-2c4bbe181bbe"
      },
      "execution_count": 50,
      "outputs": [
        {
          "output_type": "execute_result",
          "data": {
            "text/plain": [
              "(array([0.99913259, 0.91569618, 0.95076192, 0.90158075, 0.99433829,\n",
              "        0.98622089, 0.93584654, 0.93155842, 0.98151376, 0.91364109,\n",
              "        0.95181943, 0.55555556]),\n",
              " array([0.98123216, 0.91253526, 0.95602526, 0.86297336, 0.96404066,\n",
              "        0.97180192, 0.97007907, 0.88905999, 0.93430065, 0.83785778,\n",
              "        0.97456915, 0.49967554]),\n",
              " array([0.99010147, 0.91411299, 0.95338632, 0.88185471, 0.97895511,\n",
              "        0.97895831, 0.95265538, 0.90981319, 0.95732545, 0.87410995,\n",
              "        0.96305996, 0.52613598]),\n",
              " array([150257,  84011, 143969,  58755,  39350, 139052, 265834,  15585,\n",
              "         51827,  32527, 178484,   1541]))"
            ]
          },
          "metadata": {},
          "execution_count": 50
        }
      ]
    },
    {
      "cell_type": "code",
      "source": [
        "#Handling input sentences\n",
        "def checker(input_sentence, word_tag, trans):\n",
        "  input_sentence = input_sentence.lower()\n",
        "  input_split = input_sentence.split()\n",
        "  input_split = ['^'] + input_split\n",
        "  print(Viterbi_predict(word_tag, trans, input_split))"
      ],
      "metadata": {
        "id": "XBbW0UevF5AB"
      },
      "execution_count": 79,
      "outputs": []
    },
    {
      "cell_type": "code",
      "source": [
        "input = 'He runs very fast'\n",
        "checker(input, word_tag, trans)"
      ],
      "metadata": {
        "colab": {
          "base_uri": "https://localhost:8080/"
        },
        "id": "ZDUaQffkO976",
        "outputId": "d9faf49f-5381-479e-9cc8-36981e759941"
      },
      "execution_count": 81,
      "outputs": [
        {
          "output_type": "stream",
          "name": "stdout",
          "text": [
            "['DET', 'NOUN', 'NOUN', 'NOUN', 'NOUN']\n"
          ]
        }
      ]
    },
    {
      "cell_type": "code",
      "source": [
        "trans"
      ],
      "metadata": {
        "colab": {
          "base_uri": "https://localhost:8080/"
        },
        "id": "tNMNnkcYQycP",
        "outputId": "f741d3b5-a3df-40da-ed5e-d115f6f07737"
      },
      "execution_count": 82,
      "outputs": [
        {
          "output_type": "execute_result",
          "data": {
            "text/plain": [
              "{'^': {'DET': 9772,\n",
              "  '.': 4133,\n",
              "  'PRON': 7305,\n",
              "  'NOUN': 6514,\n",
              "  'ADV': 4148,\n",
              "  'ADP': 5600,\n",
              "  'VERB': 2056,\n",
              "  'NUM': 772,\n",
              "  'ADJ': 1612,\n",
              "  'CONJ': 2259,\n",
              "  'PRT': 1675,\n",
              "  'X': 26},\n",
              " 'DET': {'NOUN': 68319,\n",
              "  'VERB': 6994,\n",
              "  'DET': 657,\n",
              "  'ADJ': 26171,\n",
              "  'PRON': 1061,\n",
              "  'NUM': 1057,\n",
              "  'ADV': 1911,\n",
              "  'ADP': 977,\n",
              "  '.': 1403,\n",
              "  'X': 154,\n",
              "  'PRT': 209,\n",
              "  'CONJ': 74},\n",
              " 'NOUN': {'NOUN': 32912,\n",
              "  'ADJ': 2809,\n",
              "  'VERB': 35011,\n",
              "  'DET': 3404,\n",
              "  'ADP': 53576,\n",
              "  '.': 62140,\n",
              "  'ADV': 5800,\n",
              "  'CONJ': 13141,\n",
              "  'PRT': 3857,\n",
              "  'NUM': 1757,\n",
              "  'PRON': 4310,\n",
              "  'X': 66},\n",
              " 'ADJ': {'NOUN': 43560,\n",
              "  'ADP': 5838,\n",
              "  'CONJ': 2473,\n",
              "  '.': 6746,\n",
              "  'PRT': 1272,\n",
              "  'ADJ': 3803,\n",
              "  'DET': 400,\n",
              "  'ADV': 640,\n",
              "  'VERB': 1172,\n",
              "  'NUM': 448,\n",
              "  'X': 34,\n",
              "  'PRON': 262},\n",
              " 'VERB': {'NOUN': 14083,\n",
              "  '.': 11769,\n",
              "  'ADP': 24700,\n",
              "  'ADJ': 8353,\n",
              "  'DET': 23704,\n",
              "  'VERB': 26762,\n",
              "  'PRON': 7919,\n",
              "  'CONJ': 2106,\n",
              "  'ADV': 14998,\n",
              "  'PRT': 9522,\n",
              "  'NUM': 1314,\n",
              "  'X': 30},\n",
              " 'ADP': {'NOUN': 29692,\n",
              "  'DET': 52412,\n",
              "  'ADJ': 9452,\n",
              "  'VERB': 4725,\n",
              "  'PRON': 8056,\n",
              "  'PRT': 1641,\n",
              "  'NUM': 3506,\n",
              "  'ADV': 1798,\n",
              "  '.': 1134,\n",
              "  'ADP': 2344,\n",
              "  'CONJ': 222,\n",
              "  'X': 51},\n",
              " '.': {'DET': 7902,\n",
              "  'ADP': 7581,\n",
              "  '.': 12590,\n",
              "  'VERB': 8984,\n",
              "  'ADV': 5155,\n",
              "  'PRT': 2154,\n",
              "  'CONJ': 8097,\n",
              "  'NOUN': 9742,\n",
              "  'NUM': 1416,\n",
              "  'ADJ': 3436,\n",
              "  'PRON': 5454,\n",
              "  'X': 158},\n",
              " 'ADV': {'VERB': 10761,\n",
              "  'DET': 3307,\n",
              "  'ADJ': 6124,\n",
              "  '.': 7631,\n",
              "  'ADP': 6286,\n",
              "  'ADV': 4343,\n",
              "  'PRT': 1280,\n",
              "  'CONJ': 776,\n",
              "  'PRON': 2154,\n",
              "  'NOUN': 1490,\n",
              "  'NUM': 590,\n",
              "  'X': 5},\n",
              " 'CONJ': {'NOUN': 7470,\n",
              "  'DET': 4604,\n",
              "  'ADJ': 3363,\n",
              "  'ADV': 2746,\n",
              "  'VERB': 5913,\n",
              "  'PRON': 2059,\n",
              "  '.': 636,\n",
              "  'PRT': 764,\n",
              "  'NUM': 578,\n",
              "  'ADP': 2228,\n",
              "  'X': 18,\n",
              "  'CONJ': 8},\n",
              " 'PRON': {'VERB': 27659,\n",
              "  '.': 4082,\n",
              "  'DET': 686,\n",
              "  'PRT': 911,\n",
              "  'ADV': 2111,\n",
              "  'ADP': 2170,\n",
              "  'PRON': 323,\n",
              "  'ADJ': 378,\n",
              "  'CONJ': 461,\n",
              "  'NOUN': 337,\n",
              "  'NUM': 40,\n",
              "  'X': 1},\n",
              " 'PRT': {'VERB': 14711,\n",
              "  'DET': 1982,\n",
              "  'ADP': 2131,\n",
              "  'ADV': 859,\n",
              "  '.': 1802,\n",
              "  'CONJ': 283,\n",
              "  'NOUN': 843,\n",
              "  'ADJ': 463,\n",
              "  'PRT': 255,\n",
              "  'PRON': 158,\n",
              "  'NUM': 124,\n",
              "  'X': 2},\n",
              " 'NUM': {'NOUN': 4514,\n",
              "  'ADP': 1554,\n",
              "  'ADJ': 702,\n",
              "  'DET': 163,\n",
              "  '.': 3198,\n",
              "  'CONJ': 462,\n",
              "  'NUM': 247,\n",
              "  'VERB': 540,\n",
              "  'PRT': 69,\n",
              "  'PRON': 95,\n",
              "  'ADV': 241,\n",
              "  'X': 1},\n",
              " 'X': {'X': 589,\n",
              "  'NOUN': 61,\n",
              "  '.': 312,\n",
              "  'ADP': 54,\n",
              "  'PRT': 10,\n",
              "  'VERB': 55,\n",
              "  'ADV': 10,\n",
              "  'CONJ': 27,\n",
              "  'ADJ': 3,\n",
              "  'DET': 5,\n",
              "  'PRON': 7}}"
            ]
          },
          "metadata": {},
          "execution_count": 82
        }
      ]
    },
    {
      "cell_type": "code",
      "source": [],
      "metadata": {
        "id": "w973hRFJSYxG"
      },
      "execution_count": null,
      "outputs": []
    }
  ]
}